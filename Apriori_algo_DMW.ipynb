{
 "cells": [
  {
   "cell_type": "code",
   "execution_count": 2,
   "id": "45a8766c",
   "metadata": {},
   "outputs": [],
   "source": [
    "import pandas as pd\n",
    "import numpy as np"
   ]
  },
  {
   "cell_type": "code",
   "execution_count": 85,
   "id": "9f3f1476",
   "metadata": {},
   "outputs": [],
   "source": [
    "data  = pd.read_csv(\"E:\\Apriory dummy.csv\")"
   ]
  },
  {
   "cell_type": "code",
   "execution_count": 86,
   "id": "fd065461",
   "metadata": {},
   "outputs": [
    {
     "data": {
      "text/html": [
       "<div>\n",
       "<style scoped>\n",
       "    .dataframe tbody tr th:only-of-type {\n",
       "        vertical-align: middle;\n",
       "    }\n",
       "\n",
       "    .dataframe tbody tr th {\n",
       "        vertical-align: top;\n",
       "    }\n",
       "\n",
       "    .dataframe thead th {\n",
       "        text-align: right;\n",
       "    }\n",
       "</style>\n",
       "<table border=\"1\" class=\"dataframe\">\n",
       "  <thead>\n",
       "    <tr style=\"text-align: right;\">\n",
       "      <th></th>\n",
       "      <th>Items</th>\n",
       "    </tr>\n",
       "  </thead>\n",
       "  <tbody>\n",
       "    <tr>\n",
       "      <th>0</th>\n",
       "      <td>A,C,D</td>\n",
       "    </tr>\n",
       "    <tr>\n",
       "      <th>1</th>\n",
       "      <td>B,C,E</td>\n",
       "    </tr>\n",
       "    <tr>\n",
       "      <th>2</th>\n",
       "      <td>A,B,C,E</td>\n",
       "    </tr>\n",
       "    <tr>\n",
       "      <th>3</th>\n",
       "      <td>B,E</td>\n",
       "    </tr>\n",
       "  </tbody>\n",
       "</table>\n",
       "</div>"
      ],
      "text/plain": [
       "     Items\n",
       "0    A,C,D\n",
       "1    B,C,E\n",
       "2  A,B,C,E\n",
       "3      B,E"
      ]
     },
     "execution_count": 86,
     "metadata": {},
     "output_type": "execute_result"
    }
   ],
   "source": [
    "data"
   ]
  },
  {
   "cell_type": "code",
   "execution_count": 87,
   "id": "69ebf8e1",
   "metadata": {},
   "outputs": [
    {
     "data": {
      "text/plain": [
       "[['A,C,D'], ['B,C,E'], ['A,B,C,E'], ['B,E']]"
      ]
     },
     "execution_count": 87,
     "metadata": {},
     "output_type": "execute_result"
    }
   ],
   "source": [
    "data = data.values.tolist()\n",
    "data"
   ]
  },
  {
   "cell_type": "code",
   "execution_count": 88,
   "id": "eb4fcd1d",
   "metadata": {},
   "outputs": [
    {
     "name": "stdout",
     "output_type": "stream",
     "text": [
      "[',', 'A', 'B', 'C', 'D', 'E']\n"
     ]
    },
    {
     "data": {
      "text/plain": [
       "6"
      ]
     },
     "execution_count": 88,
     "metadata": {},
     "output_type": "execute_result"
    }
   ],
   "source": [
    "init = []\n",
    "for i in data:\n",
    "    for q in i[0]:\n",
    "        if(q not in init):\n",
    "            init.append(q)\n",
    "init = sorted(init)\n",
    "print(init)\n",
    "\n",
    "len(init)"
   ]
  },
  {
   "cell_type": "code",
   "execution_count": 89,
   "id": "63b4d784",
   "metadata": {},
   "outputs": [
    {
     "data": {
      "text/plain": [
       "['A', 'B', 'C', 'D', 'E']"
      ]
     },
     "execution_count": 89,
     "metadata": {},
     "output_type": "execute_result"
    }
   ],
   "source": [
    "init = init[1:]\n",
    "init"
   ]
  },
  {
   "cell_type": "code",
   "execution_count": 90,
   "id": "d5d7cb16",
   "metadata": {},
   "outputs": [
    {
     "data": {
      "text/plain": [
       "2"
      ]
     },
     "execution_count": 90,
     "metadata": {},
     "output_type": "execute_result"
    }
   ],
   "source": [
    "sp = 0.5\n",
    "s = int(sp*len(init))\n",
    "s"
   ]
  },
  {
   "cell_type": "code",
   "execution_count": 91,
   "id": "f950b48a",
   "metadata": {},
   "outputs": [
    {
     "name": "stdout",
     "output_type": "stream",
     "text": [
      "C1:\n",
      "['A']: 2\n",
      "['B']: 3\n",
      "['C']: 3\n",
      "['D']: 1\n",
      "['E']: 3\n",
      "\n",
      "L1:\n",
      "['A']: 2\n",
      "['B']: 3\n",
      "['C']: 3\n",
      "['E']: 3\n",
      "\n",
      "C2:\n",
      "['B', 'C']: 2\n",
      "['B', 'E']: 3\n",
      "['E', 'C']: 2\n",
      "['A', 'B']: 1\n",
      "['A', 'C']: 2\n",
      "['A', 'E']: 1\n",
      "\n",
      "L2:\n",
      "['B', 'C']: 2\n",
      "['B', 'E']: 3\n",
      "['E', 'C']: 2\n",
      "['A', 'C']: 2\n",
      "\n",
      "C3:\n",
      "['A', 'E', 'C']: 1\n",
      "['B', 'C', 'E']: 2\n",
      "['A', 'B', 'C']: 1\n",
      "\n",
      "L3:\n",
      "['B', 'C', 'E']: 2\n",
      "\n",
      "C4:\n",
      "\n",
      "L4:\n",
      "\n",
      "Result: \n",
      "L3:\n",
      "['B', 'C', 'E']: 2\n",
      "\n"
     ]
    }
   ],
   "source": [
    "from collections import Counter\n",
    "c = Counter()\n",
    "for i in init:\n",
    "    for d in data:\n",
    "        if(i in d[0]):\n",
    "            c[i]+=1\n",
    "print(\"C1:\")\n",
    "for i in c:\n",
    "    print(str([i])+\": \"+str(c[i]))\n",
    "print()\n",
    "l = Counter()\n",
    "for i in c:\n",
    "    if(c[i] >= s):\n",
    "        l[frozenset([i])]+=c[i]\n",
    "print(\"L1:\")\n",
    "for i in l:\n",
    "    print(str(list(i))+\": \"+str(l[i]))\n",
    "print()\n",
    "pl = l\n",
    "pos = 1\n",
    "for count in range (2,1000):\n",
    "    nc = set()\n",
    "    temp = list(l)\n",
    "    for i in range(0,len(temp)):\n",
    "        for j in range(i+1,len(temp)):\n",
    "            t = temp[i].union(temp[j])\n",
    "            if(len(t) == count):\n",
    "                nc.add(temp[i].union(temp[j]))\n",
    "    nc = list(nc)\n",
    "    c = Counter()\n",
    "    for i in nc:\n",
    "        c[i] = 0\n",
    "        for q in data:\n",
    "            temp = set(q[0])\n",
    "            if(i.issubset(temp)):\n",
    "                c[i]+=1\n",
    "    print(\"C\"+str(count)+\":\")\n",
    "    for i in c:\n",
    "        print(str(list(i))+\": \"+str(c[i]))\n",
    "    print()\n",
    "    l = Counter()\n",
    "    for i in c:\n",
    "        if(c[i] >= s):\n",
    "            l[i]+=c[i]\n",
    "    print(\"L\"+str(count)+\":\")\n",
    "    for i in l:\n",
    "        print(str(list(i))+\": \"+str(l[i]))\n",
    "    print()\n",
    "    if(len(l) == 0):\n",
    "        break\n",
    "    pl = l\n",
    "    pos = count\n",
    "print(\"Result: \")\n",
    "print(\"L\"+str(pos)+\":\")\n",
    "for i in pl:\n",
    "    print(str(list(i))+\": \"+str(pl[i]))\n",
    "print()"
   ]
  },
  {
   "cell_type": "code",
   "execution_count": null,
   "id": "f716260a",
   "metadata": {},
   "outputs": [],
   "source": []
  }
 ],
 "metadata": {
  "kernelspec": {
   "display_name": "Python 3 (ipykernel)",
   "language": "python",
   "name": "python3"
  },
  "language_info": {
   "codemirror_mode": {
    "name": "ipython",
    "version": 3
   },
   "file_extension": ".py",
   "mimetype": "text/x-python",
   "name": "python",
   "nbconvert_exporter": "python",
   "pygments_lexer": "ipython3",
   "version": "3.9.7"
  }
 },
 "nbformat": 4,
 "nbformat_minor": 5
}
